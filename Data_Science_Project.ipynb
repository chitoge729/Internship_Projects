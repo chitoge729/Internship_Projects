{
  "nbformat": 4,
  "nbformat_minor": 0,
  "metadata": {
    "colab": {
      "provenance": []
    },
    "kernelspec": {
      "name": "python3",
      "display_name": "Python 3"
    },
    "language_info": {
      "name": "python"
    }
  },
  "cells": [
    {
      "cell_type": "code",
      "execution_count": 77,
      "metadata": {
        "id": "nMwSoOfvPCuy",
        "colab": {
          "base_uri": "https://localhost:8080/"
        },
        "outputId": "08ac5e91-bc3c-432d-da84-bb15af6f9dd2"
      },
      "outputs": [
        {
          "output_type": "stream",
          "name": "stderr",
          "text": [
            "<ipython-input-77-6ab982f88044>:9: DeprecationWarning: Please use `pearsonr` from the `scipy.stats` namespace, the `scipy.stats.stats` namespace is deprecated.\n",
            "  from scipy.stats.stats import pearsonr\n"
          ]
        }
      ],
      "source": [
        "import numpy as np\n",
        "import pandas as pd\n",
        "import matplotlib.pyplot as plt\n",
        "import seaborn as sns\n",
        "import statsmodels.formula.api as smf\n",
        "%matplotlib inline\n",
        "\n",
        "from pydoc import help\n",
        "from scipy.stats.stats import pearsonr\n",
        "\n",
        "from sklearn import datasets, linear_model\n",
        "from sklearn import svm\n",
        "from sklearn.tree import DecisionTreeRegressor\n",
        "from sklearn.neighbors import KNeighborsRegressor\n",
        "from sklearn.ensemble import RandomForestRegressor\n",
        "import xgboost as xgb\n",
        "\n",
        "from sklearn.metrics import mean_squared_error, r2_score\n",
        "\n",
        "from sklearn.model_selection import cross_val_score\n",
        "from sklearn.model_selection import cross_val_predict\n",
        "from sklearn import metrics\n",
        "\n",
        "from datetime import datetime\n",
        "from datetime import timedelta\n",
        "import datetime as dt\n",
        "import calendar\n",
        "\n",
        "import math"
      ]
    },
    {
      "cell_type": "code",
      "source": [
        "taxi = pd.read_csv(\"https://raw.githubusercontent.com/Premalatha-success/Datasets/main/TaxiFare.csv\")\n",
        "taxi.columns"
      ],
      "metadata": {
        "colab": {
          "base_uri": "https://localhost:8080/"
        },
        "id": "WB1EbW_vyvmi",
        "outputId": "a1d9a9f6-ba1d-4fd4-c041-ef64a0bae933"
      },
      "execution_count": 78,
      "outputs": [
        {
          "output_type": "execute_result",
          "data": {
            "text/plain": [
              "Index(['unique_id', 'amount', 'date_time_of_pickup', 'longitude_of_pickup',\n",
              "       'latitude_of_pickup', 'longitude_of_dropoff', 'latitude_of_dropoff',\n",
              "       'no_of_passenger'],\n",
              "      dtype='object')"
            ]
          },
          "metadata": {},
          "execution_count": 78
        }
      ]
    },
    {
      "cell_type": "code",
      "source": [
        "#Checking Null entries\n",
        "taxi[pd.isnull(taxi)].sum()"
      ],
      "metadata": {
        "colab": {
          "base_uri": "https://localhost:8080/"
        },
        "id": "NORFrAnHzqCM",
        "outputId": "1369da1b-7d83-43f7-b0d8-01f51122f943"
      },
      "execution_count": 79,
      "outputs": [
        {
          "output_type": "execute_result",
          "data": {
            "text/plain": [
              "unique_id                 0\n",
              "amount                  0.0\n",
              "date_time_of_pickup       0\n",
              "longitude_of_pickup     0.0\n",
              "latitude_of_pickup      0.0\n",
              "longitude_of_dropoff    0.0\n",
              "latitude_of_dropoff     0.0\n",
              "no_of_passenger         0.0\n",
              "dtype: object"
            ]
          },
          "metadata": {},
          "execution_count": 79
        }
      ]
    },
    {
      "cell_type": "code",
      "source": [
        "#Extracting data from date_time_of_pickup in dataset\n",
        "\n",
        "taxi['date_time_of_pickup'] = pd.to_datetime(taxi['date_time_of_pickup'], format = '%Y-%m-%d %H:%M:%S UTC')\n",
        "taxi['pickup_date']= taxi['date_time_of_pickup'].dt.date\n",
        "taxi['pickup_hour']=taxi['date_time_of_pickup'].dt.hour\n",
        "taxi['pickup_day']=taxi['date_time_of_pickup'].dt.day\n",
        "taxi['pickup_month']=taxi['date_time_of_pickup'].dt.month\n",
        "taxi['pickup_year']=taxi['date_time_of_pickup'].dt.year\n",
        "taxi['pickup_day_of_week']=taxi['date_time_of_pickup'].apply(lambda x:calendar.day_name[x.weekday()])"
      ],
      "metadata": {
        "id": "y-xV8OVPz0EE"
      },
      "execution_count": 80,
      "outputs": []
    },
    {
      "cell_type": "code",
      "source": [
        "print (taxi.shape)\n",
        "print (taxi.columns)"
      ],
      "metadata": {
        "colab": {
          "base_uri": "https://localhost:8080/"
        },
        "id": "YxkO_GDh1jMe",
        "outputId": "66b88d15-c6a7-499c-f361-dcedb1ea5922"
      },
      "execution_count": 81,
      "outputs": [
        {
          "output_type": "stream",
          "name": "stdout",
          "text": [
            "(50000, 14)\n",
            "Index(['unique_id', 'amount', 'date_time_of_pickup', 'longitude_of_pickup',\n",
            "       'latitude_of_pickup', 'longitude_of_dropoff', 'latitude_of_dropoff',\n",
            "       'no_of_passenger', 'pickup_date', 'pickup_hour', 'pickup_day',\n",
            "       'pickup_month', 'pickup_year', 'pickup_day_of_week'],\n",
            "      dtype='object')\n"
          ]
        }
      ]
    },
    {
      "cell_type": "code",
      "source": [
        "# REMOVING ENTRIES WITH -VE FARE AMOUNT\n",
        "taxi=taxi.loc[taxi['amount']>=0]\n",
        "print (taxi.shape)"
      ],
      "metadata": {
        "colab": {
          "base_uri": "https://localhost:8080/"
        },
        "id": "YFn5mh8r1tLc",
        "outputId": "efe7c20a-771c-4e4d-efe8-682348ed8305"
      },
      "execution_count": 82,
      "outputs": [
        {
          "output_type": "stream",
          "name": "stdout",
          "text": [
            "(49994, 14)\n"
          ]
        }
      ]
    },
    {
      "cell_type": "code",
      "source": [
        "test = pd.read_csv(\"/content/test.csv\")"
      ],
      "metadata": {
        "id": "oh45Kf7k2EEw"
      },
      "execution_count": 83,
      "outputs": []
    },
    {
      "cell_type": "code",
      "source": [
        "test =  pd.read_csv('./test.csv')\n",
        "\n",
        "print(\"Longitude Boundary in test data\")\n",
        "print (min(test.pickup_longitude.min(), test.dropoff_longitude.min()),max(test.pickup_longitude.max(), test.dropoff_longitude.max()))\n",
        "\n",
        "print(\"Latitude Boundary in test data\")\n",
        "print (min(test.pickup_latitude.min(), test.pickup_latitude.min()),max(test.pickup_latitude.max(), test.pickup_latitude.max()))"
      ],
      "metadata": {
        "colab": {
          "base_uri": "https://localhost:8080/"
        },
        "id": "rU5e8iG83TKW",
        "outputId": "1c9d51b8-5aa7-4852-dbf7-c336b7f7bc92"
      },
      "execution_count": 84,
      "outputs": [
        {
          "output_type": "stream",
          "name": "stdout",
          "text": [
            "Longitude Boundary in test data\n",
            "-74.263242 -72.986532\n",
            "Latitude Boundary in test data\n",
            "40.573143 41.709555\n"
          ]
        }
      ]
    },
    {
      "cell_type": "code",
      "source": [
        "boundary={'north_lat':41.709555,\n",
        "          'south_lat':40.573143,\n",
        "          'east_long':-72.986532, \n",
        "          'west_long':-74.263242}"
      ],
      "metadata": {
        "id": "vphhLvrt6QP1"
      },
      "execution_count": 85,
      "outputs": []
    },
    {
      "cell_type": "code",
      "source": [
        "taxi.loc[~((taxi.longitude_of_pickup >= boundary['west_long'] ) & (taxi.longitude_of_pickup <= boundary['east_long']) &\n",
        "            (taxi.latitude_of_pickup >= boundary['south_lat']) & (taxi.latitude_of_pickup <= boundary['north_lat']) &\n",
        "            (taxi.longitude_of_dropoff >= boundary['west_long']) & (taxi.longitude_of_dropoff <= boundary['east_long']) &\n",
        "            (taxi.latitude_of_dropoff >=boundary['south_lat']) & (taxi.latitude_of_dropoff <= boundary['north_lat'])),'is_outlier_loc']=1\n",
        "taxi.loc[((taxi.longitude_of_pickup >= boundary['west_long'] ) & (taxi.longitude_of_pickup <= boundary['east_long']) &\n",
        "            (taxi.latitude_of_pickup >= boundary['south_lat']) & (taxi.latitude_of_pickup <= boundary['north_lat']) &\n",
        "            (taxi.longitude_of_dropoff >= boundary['west_long']) & (taxi.longitude_of_dropoff <= boundary['east_long']) &\n",
        "            (taxi.latitude_of_dropoff >=boundary['south_lat']) & (taxi.latitude_of_dropoff <= boundary['north_lat'])),'is_outlier_loc']=0"
      ],
      "metadata": {
        "id": "SJsE1jS26c_-",
        "colab": {
          "base_uri": "https://localhost:8080/"
        },
        "outputId": "f707e9b4-526f-4cd7-bc17-46b22b606497"
      },
      "execution_count": 86,
      "outputs": [
        {
          "output_type": "stream",
          "name": "stderr",
          "text": [
            "/usr/local/lib/python3.8/dist-packages/pandas/core/indexing.py:1684: SettingWithCopyWarning: \n",
            "A value is trying to be set on a copy of a slice from a DataFrame.\n",
            "Try using .loc[row_indexer,col_indexer] = value instead\n",
            "\n",
            "See the caveats in the documentation: https://pandas.pydata.org/pandas-docs/stable/user_guide/indexing.html#returning-a-view-versus-a-copy\n",
            "  self.obj[key] = infer_fill_value(value)\n",
            "/usr/local/lib/python3.8/dist-packages/pandas/core/indexing.py:1817: SettingWithCopyWarning: \n",
            "A value is trying to be set on a copy of a slice from a DataFrame.\n",
            "Try using .loc[row_indexer,col_indexer] = value instead\n",
            "\n",
            "See the caveats in the documentation: https://pandas.pydata.org/pandas-docs/stable/user_guide/indexing.html#returning-a-view-versus-a-copy\n",
            "  self._setitem_single_column(loc, value, pi)\n"
          ]
        }
      ]
    },
    {
      "cell_type": "code",
      "source": [
        "taxi=taxi.loc[taxi['is_outlier_loc']==0]\n",
        "taxi.drop(['is_outlier_loc'],axis=1,inplace=True)\n",
        "print (taxi.shape)"
      ],
      "metadata": {
        "colab": {
          "base_uri": "https://localhost:8080/"
        },
        "id": "XxZrtWfv8Ajj",
        "outputId": "18888cad-38f5-4552-edd5-b004630560db"
      },
      "execution_count": 87,
      "outputs": [
        {
          "output_type": "stream",
          "name": "stdout",
          "text": [
            "(48922, 14)\n"
          ]
        }
      ]
    },
    {
      "cell_type": "code",
      "source": [
        "def haversian_distance(lat1, lat2, lon1,lon2):\n",
        "    p = 0.017453292519943295 # Pi/180\n",
        "    a = 0.5 - np.cos((lat2 - lat1) * p)/2 + np.cos(lat1 * p) * np.cos(lat2 * p) * (1 - np.cos((lon2 - lon1) * p)) / 2\n",
        "    return 0.6213712 * 12742 * np.arcsin(np.sqrt(a))\n",
        "\n",
        "taxi['hav_distance'] = taxi.apply(lambda row:haversian_distance(row['latitude_of_pickup'],row['latitude_of_dropoff'],row['longitude_of_pickup'],row['longitude_of_dropoff']),axis=1)"
      ],
      "metadata": {
        "id": "WQZ5-Nst8bYX"
      },
      "execution_count": 88,
      "outputs": []
    },
    {
      "cell_type": "code",
      "source": [
        "taxi['euc_distance'] = 69 * np.sqrt((np.array(taxi.longitude_of_dropoff) - np.array(taxi.longitude_of_pickup))**2 + (np.array(taxi.latitude_of_pickup) - np.array(taxi.latitude_of_dropoff))**2)"
      ],
      "metadata": {
        "id": "G8v0mPp49OmY"
      },
      "execution_count": 89,
      "outputs": []
    },
    {
      "cell_type": "code",
      "source": [
        "print (\"Corr between Eucledian Distance and Fare Amount\")\n",
        "corr = pearsonr(taxi.amount, taxi.euc_distance)\n",
        "print (corr)"
      ],
      "metadata": {
        "colab": {
          "base_uri": "https://localhost:8080/"
        },
        "id": "ZQgYQUFA96sj",
        "outputId": "1a1b215d-e5d1-42b5-e1b1-ffc1c1569307"
      },
      "execution_count": 90,
      "outputs": [
        {
          "output_type": "stream",
          "name": "stdout",
          "text": [
            "Corr between Eucledian Distance and Fare Amount\n",
            "PearsonRResult(statistic=0.7990354311844969, pvalue=0.0)\n"
          ]
        }
      ]
    },
    {
      "cell_type": "code",
      "source": [
        "# Scatter Plot Between Eucledian Distance and Fare Amount\n",
        "sns.lmplot(x='euc_distance', y='amount', data=taxi)\n",
        "plt.title('Distance of Ride Vs Taxi Fare')\n",
        "plt.xlabel('Distance of Ride')\n",
        "plt.ylabel('Taxi Fare')"
      ],
      "metadata": {
        "colab": {
          "base_uri": "https://localhost:8080/",
          "height": 401
        },
        "id": "RyN2ZfhO_FqR",
        "outputId": "e87901bc-8267-4d41-fd3d-a53e5a09d50b"
      },
      "execution_count": 91,
      "outputs": [
        {
          "output_type": "execute_result",
          "data": {
            "text/plain": [
              "Text(17.67500000000001, 0.5, 'Taxi Fare')"
            ]
          },
          "metadata": {},
          "execution_count": 91
        },
        {
          "output_type": "display_data",
          "data": {
            "text/plain": [
              "<Figure size 360x360 with 1 Axes>"
            ],
            "image/png": "[encoded data removed]"
          },
          "metadata": {
            "needs_background": "light"
          }
        }
      ]
    },
    {
      "cell_type": "code",
      "source": [
        "# Scatter Plot Between Eucledian Distance <=50 and Fare Amount\n",
        "lm = sns.lmplot(x='euc_distance', y='amount', data=taxi)\n",
        "lm.set(xlim=(0, 50))\n",
        "plt.title('Distance of Ride <=50 Vs Taxi Fare')\n",
        "plt.xlabel('Distance of Ride <= 50')\n",
        "plt.ylabel('Taxi Fare')"
      ],
      "metadata": {
        "colab": {
          "base_uri": "https://localhost:8080/",
          "height": 401
        },
        "id": "4OjlfOny_Yvu",
        "outputId": "ceea2c6f-1c87-4b42-8138-5dce972a9a4e"
      },
      "execution_count": 92,
      "outputs": [
        {
          "output_type": "execute_result",
          "data": {
            "text/plain": [
              "Text(17.67500000000001, 0.5, 'Taxi Fare')"
            ]
          },
          "metadata": {},
          "execution_count": 92
        },
        {
          "output_type": "display_data",
          "data": {
            "text/plain": [
              "<Figure size 360x360 with 1 Axes>"
            ],
            "image/png": "[encoded data removed]"
          },
          "metadata": {
            "needs_background": "light"
          }
        }
      ]
    },
    {
      "cell_type": "code",
      "source": [
        "print (\"Corr between Time of the Day and Eucledian Distance\")\n",
        "corr = pearsonr(taxi.euc_distance, taxi.pickup_hour)\n",
        "print (corr)"
      ],
      "metadata": {
        "colab": {
          "base_uri": "https://localhost:8080/"
        },
        "id": "91pS8sw8_rlQ",
        "outputId": "ed2331b3-b4e8-4a61-eb30-1ad7093711c6"
      },
      "execution_count": 93,
      "outputs": [
        {
          "output_type": "stream",
          "name": "stdout",
          "text": [
            "Corr between Time of the Day and Eucledian Distance\n",
            "PearsonRResult(statistic=-0.03260097433060624, pvalue=5.492575957297629e-13)\n"
          ]
        }
      ]
    },
    {
      "cell_type": "code",
      "source": [
        "# Scatter Plot Between Eucledian Distance and Time of the Day\n",
        "\n",
        "sns.lmplot(x='pickup_hour', y='euc_distance', data=taxi)\n",
        "\n",
        "plt.title('Time of Day Vs Distance of Ride')\n",
        "# Set x-axis label\n",
        "plt.xlabel('Time of Day')\n",
        "# Set y-axis label\n",
        "plt.ylabel('Distance of Ride')"
      ],
      "metadata": {
        "colab": {
          "base_uri": "https://localhost:8080/",
          "height": 401
        },
        "id": "WxzjQYqaAHaF",
        "outputId": "d0d90928-f7db-43d9-e6e6-9ea6cccd2eab"
      },
      "execution_count": 94,
      "outputs": [
        {
          "output_type": "execute_result",
          "data": {
            "text/plain": [
              "Text(24.956249999999997, 0.5, 'Distance of Ride')"
            ]
          },
          "metadata": {},
          "execution_count": 94
        },
        {
          "output_type": "display_data",
          "data": {
            "text/plain": [
              "<Figure size 360x360 with 1 Axes>"
            ],
            "image/png": "[encoded data removed]"
          },
          "metadata": {
            "needs_background": "light"
          }
        }
      ]
    },
    {
      "cell_type": "code",
      "source": [
        "print (\"Corr between Fare Amount and all other parameters\")\n",
        "print (taxi.corr('pearson')[\"amount\"])"
      ],
      "metadata": {
        "colab": {
          "base_uri": "https://localhost:8080/"
        },
        "id": "KhT5YPShAODw",
        "outputId": "88f72ee2-decc-4be3-9f5e-c93134b01837"
      },
      "execution_count": 95,
      "outputs": [
        {
          "output_type": "stream",
          "name": "stdout",
          "text": [
            "Corr between Fare Amount and all other parameters\n",
            "amount                  1.000000\n",
            "longitude_of_pickup     0.393789\n",
            "latitude_of_pickup     -0.167788\n",
            "longitude_of_dropoff    0.314693\n",
            "latitude_of_dropoff    -0.141144\n",
            "no_of_passenger         0.016258\n",
            "pickup_hour            -0.021941\n",
            "pickup_day             -0.001918\n",
            "pickup_month            0.026755\n",
            "pickup_year             0.121098\n",
            "hav_distance            0.789268\n",
            "euc_distance            0.799035\n",
            "Name: amount, dtype: float64\n"
          ]
        }
      ]
    },
    {
      "cell_type": "code",
      "source": [
        "print (\"Corr between Haversian Distance and all other parameters\")\n",
        "print (taxi.corr('pearson')[\"hav_distance\"])"
      ],
      "metadata": {
        "colab": {
          "base_uri": "https://localhost:8080/"
        },
        "id": "ACIuGIB6AbBl",
        "outputId": "97460ff6-6ddf-4459-c65c-8b2aff49be75"
      },
      "execution_count": 96,
      "outputs": [
        {
          "output_type": "stream",
          "name": "stdout",
          "text": [
            "Corr between Haversian Distance and all other parameters\n",
            "amount                  0.789268\n",
            "longitude_of_pickup     0.446148\n",
            "latitude_of_pickup     -0.092954\n",
            "longitude_of_dropoff    0.350614\n",
            "latitude_of_dropoff    -0.093751\n",
            "no_of_passenger         0.012407\n",
            "pickup_hour            -0.033041\n",
            "pickup_day             -0.000244\n",
            "pickup_month            0.010439\n",
            "pickup_year             0.017588\n",
            "hav_distance            1.000000\n",
            "euc_distance            0.994156\n",
            "Name: hav_distance, dtype: float64\n"
          ]
        }
      ]
    },
    {
      "cell_type": "code",
      "source": [
        "# Histogram of No.of.Trips taken per Hour in a Day\n",
        "plt.hist(taxi.pickup_hour, bins=24)\n",
        "plt.xticks(np.arange(0,24,step=1))\n",
        "plt.xlabel('Hour of the Day')\n",
        "plt.ylabel('Number of Trips')\n",
        "plt.title('Histogram of No.of.Trips taken per Hour in a Day')\n",
        "plt.show()"
      ],
      "metadata": {
        "colab": {
          "base_uri": "https://localhost:8080/",
          "height": 295
        },
        "id": "3rYC0QaBAhHK",
        "outputId": "e251fd62-60b6-4f4a-c080-6cb814e300a1"
      },
      "execution_count": 97,
      "outputs": [
        {
          "output_type": "display_data",
          "data": {
            "text/plain": [
              "<Figure size 432x288 with 1 Axes>"
            ],
            "image/png": "[encoded data removed]"
          },
          "metadata": {
            "needs_background": "light"
          }
        }
      ]
    },
    {
      "cell_type": "code",
      "source": [
        "# Histogram of No. of Trips taken per Day in a Week\n",
        "plt.hist(taxi.pickup_day_of_week, bins=7)\n",
        "plt.xticks(np.arange(0,7,step=1))\n",
        "plt.xlabel('Day of the Week')\n",
        "plt.ylabel('Number of Trips')\n",
        "plt.title('Histogram of No.of.Trips taken per Day in a Week')\n",
        "plt.show()"
      ],
      "metadata": {
        "colab": {
          "base_uri": "https://localhost:8080/",
          "height": 295
        },
        "id": "SWyGnWqRAoUJ",
        "outputId": "40a63850-05e6-4b78-cb7f-9d19b70f1cf2"
      },
      "execution_count": 98,
      "outputs": [
        {
          "output_type": "display_data",
          "data": {
            "text/plain": [
              "<Figure size 432x288 with 1 Axes>"
            ],
            "image/png": "[encoded data removed]"
          },
          "metadata": {
            "needs_background": "light"
          }
        }
      ]
    },
    {
      "cell_type": "code",
      "source": [
        "# Histogram of No. of Trips taken per Month in a Year\n",
        "plt.hist(taxi.pickup_month, bins=12)\n",
        "plt.xticks(np.arange(0,13,step=1))\n",
        "plt.xlabel('Month of the Year')\n",
        "plt.ylabel('Number of Trips')\n",
        "plt.title('Histogram of No.of.Trips taken per Month in a Year')\n",
        "plt.show()"
      ],
      "metadata": {
        "colab": {
          "base_uri": "https://localhost:8080/",
          "height": 295
        },
        "id": "NA0HFyPOA2Vz",
        "outputId": "ea241cef-48ec-40fc-d01a-15add621941d"
      },
      "execution_count": 99,
      "outputs": [
        {
          "output_type": "display_data",
          "data": {
            "text/plain": [
              "<Figure size 432x288 with 1 Axes>"
            ],
            "image/png": "[encoded data removed]"
          },
          "metadata": {
            "needs_background": "light"
          }
        }
      ]
    },
    {
      "cell_type": "code",
      "source": [
        "# Histogram of No. of Trips taken per Year\n",
        "plt.hist(taxi.pickup_year, bins=8)\n",
        "plt.xticks(np.arange(2009,2016,step=1))\n",
        "plt.xlabel('Year')\n",
        "plt.ylabel('Number of Trips')\n",
        "plt.title('Histogram of No.of.Trips taken per Year')\n",
        "plt.show()"
      ],
      "metadata": {
        "colab": {
          "base_uri": "https://localhost:8080/",
          "height": 295
        },
        "id": "3Q5qZzsaCfwm",
        "outputId": "bae73eda-6d5d-4819-e3f1-3cbfb4c96e9b"
      },
      "execution_count": 100,
      "outputs": [
        {
          "output_type": "display_data",
          "data": {
            "text/plain": [
              "<Figure size 432x288 with 1 Axes>"
            ],
            "image/png": "[encoded data removed]"
          },
          "metadata": {
            "needs_background": "light"
          }
        }
      ]
    },
    {
      "cell_type": "code",
      "source": [
        "test =  pd.read_csv('/content/test.csv')\n",
        "test['pickup_datetime']=pd.to_datetime(test['pickup_datetime'],format='%Y-%m-%d %H:%M:%S UTC')\n",
        "\n",
        "test['pickup_date']= test['pickup_datetime'].dt.date\n",
        "test['pickup_day']=test['pickup_datetime'].dt.day\n",
        "test['pickup_hour']=test['pickup_datetime'].dt.hour\n",
        "test['pickup_day_of_week']=test['pickup_datetime'].apply(lambda x:calendar.day_name[x.weekday()])\n",
        "test['pickup_month']=test['pickup_datetime'].dt.month\n",
        "test['pickup_year']=test['pickup_datetime'].dt.year\n",
        "\n",
        "test['hav_distance']=test.apply(lambda row:haversian_distance(row['pickup_latitude'],row['dropoff_latitude'],row['pickup_longitude'],row['dropoff_longitude']),axis=1)\n",
        "test['euc_distance'] = 69 * np.sqrt((np.array(test.dropoff_longitude) - np.array(test.pickup_longitude))**2 + (np.array(test.pickup_latitude) - np.array(test.dropoff_latitude))**2)"
      ],
      "metadata": {
        "id": "y_gcri1TQPwb"
      },
      "execution_count": 101,
      "outputs": []
    },
    {
      "cell_type": "code",
      "source": [
        "taxi.columns"
      ],
      "metadata": {
        "colab": {
          "base_uri": "https://localhost:8080/"
        },
        "id": "csqyKY-dQon2",
        "outputId": "a07cc402-30ed-40ac-8eba-cecbd2c188cf"
      },
      "execution_count": 102,
      "outputs": [
        {
          "output_type": "execute_result",
          "data": {
            "text/plain": [
              "Index(['unique_id', 'amount', 'date_time_of_pickup', 'longitude_of_pickup',\n",
              "       'latitude_of_pickup', 'longitude_of_dropoff', 'latitude_of_dropoff',\n",
              "       'no_of_passenger', 'pickup_date', 'pickup_hour', 'pickup_day',\n",
              "       'pickup_month', 'pickup_year', 'pickup_day_of_week', 'hav_distance',\n",
              "       'euc_distance'],\n",
              "      dtype='object')"
            ]
          },
          "metadata": {},
          "execution_count": 102
        }
      ]
    },
    {
      "cell_type": "code",
      "source": [
        "# Considering all the Features except 'Key', 'pickup_date', 'pickup_day_of_week' and 'euc_distance' (as haversian distance is already being considered, and both together could lead to redundant features.)\n",
        "taxidata = taxi[taxi.columns[3:]]\n",
        "taxidata = taxidata[taxidata.columns.difference(['pickup_day_of_week'])]\n",
        "taxidata = taxidata[taxidata.columns.difference(['pickup_date'])]\n",
        "taxidata = taxidata[taxidata.columns.difference(['euc_distance'])]\n",
        "\n",
        "# Trainoutput is the Fare Amount column\n",
        "taxioutput = taxi[taxi.columns[1:2]]\n",
        "\n",
        "# Considering 2/3rd of the data for Training and 1/3rd for Validation\n",
        "x, y = taxidata.shape\n",
        "x1 = 2 * int(x / 3)\n",
        "\n",
        "taxidata_X = taxidata[0:x1]\n",
        "testdata_X = taxidata[x1:x]\n",
        "\n",
        "taxidata_Y = taxioutput[0:x1]\n",
        "testdata_Y = taxioutput[x1:x]\n",
        "\n",
        "x, y\n",
        "print (taxidata.columns)"
      ],
      "metadata": {
        "colab": {
          "base_uri": "https://localhost:8080/"
        },
        "id": "FAoYXMhgRcZc",
        "outputId": "c4bc9002-1863-4bc0-d9e9-eaed90013c58"
      },
      "execution_count": 103,
      "outputs": [
        {
          "output_type": "stream",
          "name": "stdout",
          "text": [
            "Index(['hav_distance', 'latitude_of_dropoff', 'latitude_of_pickup',\n",
            "       'longitude_of_dropoff', 'longitude_of_pickup', 'no_of_passenger',\n",
            "       'pickup_day', 'pickup_hour', 'pickup_month', 'pickup_year'],\n",
            "      dtype='object')\n"
          ]
        }
      ]
    },
    {
      "cell_type": "code",
      "source": [
        "# Considering all Features except 'Key', 'pickup_date', 'pickup_day_of_week'\n",
        "testdata = test[test.columns[2:]]\n",
        "testdata = testdata[testdata.columns.difference(['pickup_day_of_week'])]\n",
        "testdata = testdata[testdata.columns.difference(['pickup_date'])]\n",
        "testdata = testdata[testdata.columns.difference(['euc_distance'])]\n",
        "\n",
        "print (testdata.columns)"
      ],
      "metadata": {
        "colab": {
          "base_uri": "https://localhost:8080/"
        },
        "id": "GI8JQWkKR-Go",
        "outputId": "8754c293-b594-46dd-acdb-201753add773"
      },
      "execution_count": 104,
      "outputs": [
        {
          "output_type": "stream",
          "name": "stdout",
          "text": [
            "Index(['dropoff_latitude', 'dropoff_longitude', 'hav_distance',\n",
            "       'passenger_count', 'pickup_day', 'pickup_hour', 'pickup_latitude',\n",
            "       'pickup_longitude', 'pickup_month', 'pickup_year'],\n",
            "      dtype='object')\n"
          ]
        }
      ]
    },
    {
      "cell_type": "code",
      "source": [
        "#TRAINING USING LINEAR REGRESSION\n",
        "\n",
        "regr = linear_model.LinearRegression()\n",
        "regr.fit(taxidata_X, taxidata_Y)\n",
        "testdata_Y_pred_LR = regr.predict(testdata_X)\n",
        "\n",
        "# The coefficients\n",
        "print('Coefficients: \\n', regr.coef_)\n",
        "\n",
        "# ERROR METRICS\n",
        "\n",
        "# Root Mean Square Error\n",
        "rmse = np.sqrt(mean_squared_error(testdata_Y, testdata_Y_pred_LR))\n",
        "print(\"RMSE: %f\" % (rmse))\n",
        "\n",
        "# The Mean Squared Error\n",
        "print(\"Mean squared error: %.2f\"\n",
        "      % mean_squared_error(testdata_Y, testdata_Y_pred_LR))\n",
        "\n",
        "# R2 Score\n",
        "print('Variance score: %.2f' % r2_score(testdata_Y, testdata_Y_pred_LR))"
      ],
      "metadata": {
        "colab": {
          "base_uri": "https://localhost:8080/"
        },
        "id": "KaEgw1E5SNP-",
        "outputId": "ad3d97df-6c6a-410f-a244-2794b7c3c8ec"
      },
      "execution_count": 105,
      "outputs": [
        {
          "output_type": "stream",
          "name": "stdout",
          "text": [
            "Coefficients: \n",
            " [[ 2.83148680e+00 -1.40091100e+01 -3.12815094e+01  1.76889407e+01\n",
            "   1.03697933e+01  3.85883595e-02  6.38168056e-04  9.36390447e-03\n",
            "   8.59406817e-02  5.58749770e-01]]\n",
            "RMSE: 5.706642\n",
            "Mean squared error: 32.57\n",
            "Variance score: 0.66\n"
          ]
        }
      ]
    },
    {
      "cell_type": "code",
      "source": [
        "#TRAINING USING LINEAR REGRESSION\n",
        "regr = linear_model.LinearRegression()\n",
        "regr.fit(taxidata_X, taxidata_Y)\n",
        "testdata_Y_pred_LR = regr.predict(testdata_X)\n",
        "\n",
        "# The coefficients\n",
        "print('Coefficients: \\n', regr.coef_)\n",
        "\n",
        "# Root Mean Square Error\n",
        "rmse = np.sqrt(mean_squared_error(testdata_Y, testdata_Y_pred_LR))\n",
        "print(\"RMSE: %f\" % (rmse))\n",
        "\n",
        "# The Mean Squared Error\n",
        "print(\"Mean squared error: %.2f\"\n",
        "      % mean_squared_error(testdata_Y, testdata_Y_pred_LR))\n",
        "\n",
        "# R2 Score\n",
        "print('Variance score: %.2f' % r2_score(testdata_Y, testdata_Y_pred_LR))"
      ],
      "metadata": {
        "colab": {
          "base_uri": "https://localhost:8080/"
        },
        "outputId": "ad3d97df-6c6a-410f-a244-2794b7c3c8ec",
        "id": "5WM8sdetbfz7"
      },
      "execution_count": null,
      "outputs": [
        {
          "output_type": "stream",
          "name": "stdout",
          "text": [
            "Coefficients: \n",
            " [[ 2.83148680e+00 -1.40091100e+01 -3.12815094e+01  1.76889407e+01\n",
            "   1.03697933e+01  3.85883595e-02  6.38168056e-04  9.36390447e-03\n",
            "   8.59406817e-02  5.58749770e-01]]\n",
            "RMSE: 5.706642\n",
            "Mean squared error: 32.57\n",
            "Variance score: 0.66\n"
          ]
        }
      ]
    },
    {
      "cell_type": "code",
      "source": [
        "# TESTING ON TEST USED USING THE ABOVE MODEL\n",
        "actual_testdata_pred_lr = regr.predict(taxidata)\n",
        "#EXPORTING PREDICTIONS TO CSV\n",
        "key = pd.DataFrame(taxi[taxi.columns[0:1]])\n",
        "\n",
        "key['fare_amount'] = actual_testdata_pred_lr\n",
        "key.to_csv('test_predictions_lr.csv')"
      ],
      "metadata": {
        "id": "5la3QuvZbhT5"
      },
      "execution_count": 124,
      "outputs": []
    },
    {
      "cell_type": "code",
      "source": [
        "# USING K-FOLD CROSS VALIDATION\n",
        "scores = cross_val_score(regr, taxidata, taxioutput, cv=6)\n",
        "print (\"Cross validated scores:\", scores)\n",
        "    \n",
        "predictions = cross_val_predict(regr, taxidata, taxioutput, cv=6)\n",
        "plt.scatter(taxioutput, predictions)\n",
        "\n",
        "accuracy = metrics.r2_score(taxioutput, predictions)\n",
        "print (\"Cross-Predicted Accuracy:\", accuracy)"
      ],
      "metadata": {
        "colab": {
          "base_uri": "https://localhost:8080/",
          "height": 300
        },
        "id": "TW--8VhISx0L",
        "outputId": "317fc8e0-b958-46ab-e882-a13e15b51131"
      },
      "execution_count": 113,
      "outputs": [
        {
          "output_type": "stream",
          "name": "stdout",
          "text": [
            "Cross validated scores: [0.53245195 0.68084802 0.69893758 0.64124637 0.70494932 0.62856468]\n",
            "Cross-Predicted Accuracy: 0.6473059840997525\n"
          ]
        },
        {
          "output_type": "display_data",
          "data": {
            "text/plain": [
              "<Figure size 432x288 with 1 Axes>"
            ],
            "image/png": "[encoded data removed]"
          },
          "metadata": {
            "needs_background": "light"
          }
        }
      ]
    },
    {
      "cell_type": "code",
      "source": [
        "actual_testdata_pred_lr = regr.predict(taxidata)\n",
        "#EXPORTING PREDICTIONS TO CSV\n",
        "key = pd.DataFrame(taxi[taxi.columns[0:1]])\n",
        "key['fare_amount'] = actual_testdata_pred_lr\n",
        "key.to_csv('test_predictions_lr_cv.csv')"
      ],
      "metadata": {
        "id": "TGIAF0WXX-s6"
      },
      "execution_count": 125,
      "outputs": []
    },
    {
      "cell_type": "code",
      "source": [],
      "metadata": {
        "id": "SyqmGVSCY5hO"
      },
      "execution_count": null,
      "outputs": []
    }
  ]
}